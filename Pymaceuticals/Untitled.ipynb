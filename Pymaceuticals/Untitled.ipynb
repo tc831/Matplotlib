{
 "cells": [
  {
   "cell_type": "code",
   "execution_count": null,
   "id": "e179ea97",
   "metadata": {},
   "outputs": [],
   "source": [
    "treatment_df = [\"Capomulin\", \"Ramicane\", \"Infubinol\",\"Ceftamin\"]\n",
    "\n",
    "tumor_vol = []\n",
    "\n",
    "each_regimen = clean_mice_df[clean_mice_df[\"Drug Regimen\"].isin(treatment_df)\n",
    "\n",
    "last_timepoint = each_regimen.groupby([\"Drug Regimen\", \"Mouse ID\"]).agg(tumor_vol = (\"Tumor Volume (mm3)\", lambda x: x.iloc[-1]))\n",
    "\n",
    "last_timepoint = last_timepoint.stack(level = 0).unstack(level = 0)\n",
    "                             \n",
    "treatment = 0\n",
    "for drug in treatment_df:\n",
    "    quartiles = last_timepoint[drug].quantile([0.25, 0.5, 0.75]).round(2)\n",
    "    lowerq = quartiles[0.25].round(2)\n",
    "    upperq = quartiles[0.75].round(2)\n",
    "    iqr = round(upperq - lowerq,2)\n",
    "    lower_bound = round(lowerq - (1.5 * iqr), 2)\n",
    "    upper_bound = round(upperq + (1.5 * iqr), 2)\n",
    "    \n",
    "    if treatment == 0:\n",
    "        print(f\"~~~~~~~~~~~~~~~~~~~~~~~~~~~~~~~~~~~~~~~~~~~~~~~~~~~~~~~~~~~~\")\n",
    "    print(f\"The lower quartile of {drug} is: {lowerq}\")\n",
    "    print(f\"The upper quartile of {drug} is: {upperq}\")\n",
    "    print(f\"The interquartile range of {drug} is: {iqr}\")\n",
    "    print(f\"Values below {lower_bound} could be {drug} potential outliers.\")\n",
    "    print(f\"Values above {upper_bound} could be {drug} potential outliers.\")\n",
    "    print(f\"~~~~~~~~~~~~~~~~~~~~~~~~~~~~~~~~~~~~~~~~~~~~~~~~~~~~~~~~~~~~\")\n",
    "    treatment += 1\n",
    "                             \n",
    "                             \n",
    "                             \n",
    "                             \n",
    "print(f\"{drug}'s potential outliers: {outliers}\")            \n",
    "                             \n",
    "capomulin_table = clean_mice_df.loc[clean_mice_df['Drug Regimen'] == \"Capomulin\"]\n",
    "mousedata = capomulin_table.loc[capomulin_table['Mouse ID']== 'l509']\n",
    "plt.plot(mousedata['Timepoint'],mousedata['Tumor Volume (mm3)'])\n",
    "plt.xlabel('Timepoint (days)')\n",
    "plt.ylabel(\"Tumor Volume (mm3)\")\n",
    "plt.title('Capomulin treatment of mouse l509')\n",
    "plt.show()                             \n",
    "                             \n",
    "                             \n",
    "line_df = capo_df.loc[capo_df[\"Mouse ID\"] == \"b128\",:]\n",
    "line_df.head()\n",
    "\n",
    "x_axis = line_df[\"Timepoint\"]\n",
    "tumor_size = line_df[\"Tumor Volume (mm3)\"]\n",
    "\n",
    "fig1, ax1 = plt.subplots(figsize=(15, 10))\n",
    "ax1.set_title(\"Capomulin treatmeant of mouse b128\")\n",
    "plt.plot(x_axis, tumor_size,linewidth=2)\n",
    "ax1.set_xlabel('Timepoint (Days)',fontsize =14)\n",
    "ax1.set_ylabel('Tumor Volume (mm3)',fontsize =14)\n",
    "plt.show()"
   ]
  }
 ],
 "metadata": {
  "kernelspec": {
   "display_name": "Python 3",
   "language": "python",
   "name": "python3"
  },
  "language_info": {
   "codemirror_mode": {
    "name": "ipython",
    "version": 3
   },
   "file_extension": ".py",
   "mimetype": "text/x-python",
   "name": "python",
   "nbconvert_exporter": "python",
   "pygments_lexer": "ipython3",
   "version": "3.6.10"
  }
 },
 "nbformat": 4,
 "nbformat_minor": 5
}
